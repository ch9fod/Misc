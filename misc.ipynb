{
 "cells": [
  {
   "cell_type": "code",
   "execution_count": 1,
   "metadata": {
    "collapsed": false,
    "deletable": true,
    "editable": true
   },
   "outputs": [],
   "source": [
    "#%matplotlib\n",
    "import numpy as np\n",
    "import matplotlib.pyplot as plt\n",
    "from scipy.optimize import curve_fit"
   ]
  },
  {
   "cell_type": "code",
   "execution_count": 2,
   "metadata": {
    "collapsed": true,
    "deletable": true,
    "editable": true
   },
   "outputs": [],
   "source": [
    "def func(x, a, m):\n",
    "    return a * x * np.exp(m*x)"
   ]
  },
  {
   "cell_type": "code",
   "execution_count": 3,
   "metadata": {
    "collapsed": false,
    "deletable": true,
    "editable": true
   },
   "outputs": [],
   "source": [
    "x = np.linspace(0, 2, 11)\n",
    "y = [0, 2.40, 3.00, 2.55, 2.24, 1.72, 1.18, 0.82, 0.56, 0.42, 0.25]"
   ]
  },
  {
   "cell_type": "code",
   "execution_count": 4,
   "metadata": {
    "collapsed": false,
    "deletable": true,
    "editable": true
   },
   "outputs": [
    {
     "data": {
      "text/plain": [
       "[<matplotlib.lines.Line2D at 0x1d64325d048>]"
      ]
     },
     "execution_count": 4,
     "metadata": {},
     "output_type": "execute_result"
    }
   ],
   "source": [
    "fig = plt.figure(figsize=(12,9))\n",
    "ax = fig.add_subplot(111)\n",
    "ax.plot(x, y, 'ro', label='Original Data')"
   ]
  },
  {
   "cell_type": "code",
   "execution_count": 5,
   "metadata": {
    "collapsed": false,
    "deletable": true,
    "editable": true
   },
   "outputs": [
    {
     "data": {
      "text/plain": [
       "<matplotlib.text.Text at 0x1d6435a00b8>"
      ]
     },
     "execution_count": 5,
     "metadata": {},
     "output_type": "execute_result"
    }
   ],
   "source": [
    "popt, pcov = curve_fit(func, x, y)\n",
    "ax.plot(x, func(x, *popt), 'b-', label='fit')\n",
    "ax.text(1.5, 2.5, \"a = {:0.3f}\".format(popt[0]), fontsize=15)\n",
    "ax.text(1.5, 2.4, \"m = {:0.3f}\".format(popt[1]), fontsize=15)"
   ]
  },
  {
   "cell_type": "code",
   "execution_count": 6,
   "metadata": {
    "collapsed": false,
    "deletable": true,
    "editable": true
   },
   "outputs": [
    {
     "data": {
      "image/png": "[encoded data removed]",
      "text/plain": [
       "<matplotlib.figure.Figure at 0x1d64315b048>"
      ]
     },
     "metadata": {},
     "output_type": "display_data"
    }
   ],
   "source": [
    "plt.xlabel('x')\n",
    "plt.ylabel('y')\n",
    "plt.legend()\n",
    "plt.show()"
   ]
  },
  {
   "cell_type": "code",
   "execution_count": 7,
   "metadata": {
    "collapsed": false,
    "deletable": true,
    "editable": true
   },
   "outputs": [
    {
     "data": {
      "text/plain": [
       "array([ 0.        ,  2.41694176,  2.93750134,  2.67763406,  2.16956094,\n",
       "        1.64802486,  1.20178533,  0.85203136,  0.59173794,  0.4045422 ,\n",
       "        0.27315126])"
      ]
     },
     "execution_count": 7,
     "metadata": {},
     "output_type": "execute_result"
    }
   ],
   "source": [
    "func(x, *popt)"
   ]
  },
  {
   "cell_type": "code",
   "execution_count": 8,
   "metadata": {
    "collapsed": true
   },
   "outputs": [],
   "source": [
    "from sympy import *\n",
    "x, a, m = symbols('x a m')\n",
    "init_printing()\n",
    "xs = np.linspace(0, 2, 11)\n",
    "ys = [0, 2.40, 3.00, 2.55, 2.24, 1.72, 1.18, 0.82, 0.56, 0.42, 0.25]"
   ]
  },
  {
   "cell_type": "code",
   "execution_count": 9,
   "metadata": {
    "collapsed": false
   },
   "outputs": [
    {
     "data": {
      "image/png": "[encoded data removed]",
      "text/latex": [
       "$$a x e^{m x}$$"
      ],
      "text/plain": [
       "     m⋅x\n",
       "a⋅x⋅ℯ   "
      ]
     },
     "execution_count": 9,
     "metadata": {},
     "output_type": "execute_result"
    }
   ],
   "source": [
    "eq = a * x * exp(x*m)\n",
    "eq"
   ]
  },
  {
   "cell_type": "code",
   "execution_count": 29,
   "metadata": {
    "collapsed": false
   },
   "outputs": [
    {
     "name": "stdout",
     "output_type": "stream",
     "text": [
      "[0, -0.2*a*exp(0.2*m) + 2.4, -0.4*a*exp(0.4*m) + 3.0, -0.6*a*exp(0.6*m) + 2.55, -0.8*a*exp(0.8*m) + 2.24, -1.0*a*exp(1.0*m) + 1.72, -1.2*a*exp(1.2*m) + 1.18, -1.4*a*exp(1.4*m) + 0.82, -1.6*a*exp(1.6*m) + 0.56, -1.8*a*exp(1.8*m) + 0.42, -2.0*a*exp(2.0*m) + 0.25]\n",
      "(-0.2*a*exp(0.2*m) + 2.4)**2 + (-0.4*a*exp(0.4*m) + 3.0)**2 + (-0.6*a*exp(0.6*m) + 2.55)**2 + (-0.8*a*exp(0.8*m) + 2.24)**2 + (-1.0*a*exp(1.0*m) + 1.72)**2 + (-1.2*a*exp(1.2*m) + 1.18)**2 + (-1.4*a*exp(1.4*m) + 0.82)**2 + (-1.6*a*exp(1.6*m) + 0.56)**2 + (-1.8*a*exp(1.8*m) + 0.42)**2 + (-2.0*a*exp(2.0*m) + 0.25)**2\n"
     ]
    }
   ],
   "source": [
    "v = []\n",
    "suma = 0\n",
    "for i in range(len(ys)):\n",
    "    v.append(ys[i]-eq.subs(x,xs[i]))\n",
    "    suma = suma + (ys[i]-eq.subs(x,xs[i]))**2\n",
    "print(v)\n",
    "print(suma)"
   ]
  },
  {
   "cell_type": "code",
   "execution_count": 49,
   "metadata": {
    "collapsed": false
   },
   "outputs": [
    {
     "name": "stdout",
     "output_type": "stream",
     "text": [
      "-0.4*(-0.2*a*exp(0.2*m) + 2.4)*exp(0.2*m) - 0.8*(-0.4*a*exp(0.4*m) + 3.0)*exp(0.4*m) - 1.2*(-0.6*a*exp(0.6*m) + 2.55)*exp(0.6*m) - 1.6*(-0.8*a*exp(0.8*m) + 2.24)*exp(0.8*m) - 2.0*(-1.0*a*exp(1.0*m) + 1.72)*exp(1.0*m) - 2.4*(-1.2*a*exp(1.2*m) + 1.18)*exp(1.2*m) - 2.8*(-1.4*a*exp(1.4*m) + 0.82)*exp(1.4*m) - 3.2*(-1.6*a*exp(1.6*m) + 0.56)*exp(1.6*m) - 3.6*(-1.8*a*exp(1.8*m) + 0.42)*exp(1.8*m) - 4.0*(-2.0*a*exp(2.0*m) + 0.25)*exp(2.0*m)\n"
     ]
    }
   ],
   "source": [
    "f1 = diff(suma,a)\n",
    "print(f1)"
   ]
  },
  {
   "cell_type": "code",
   "execution_count": 48,
   "metadata": {
    "collapsed": false
   },
   "outputs": [
    {
     "name": "stdout",
     "output_type": "stream",
     "text": [
      "-0.08*a*(-0.2*a*exp(0.2*m) + 2.4)*exp(0.2*m) - 0.32*a*(-0.4*a*exp(0.4*m) + 3.0)*exp(0.4*m) - 0.72*a*(-0.6*a*exp(0.6*m) + 2.55)*exp(0.6*m) - 1.28*a*(-0.8*a*exp(0.8*m) + 2.24)*exp(0.8*m) - 2.0*a*(-1.0*a*exp(1.0*m) + 1.72)*exp(1.0*m) - 2.88*a*(-1.2*a*exp(1.2*m) + 1.18)*exp(1.2*m) - 3.92*a*(-1.4*a*exp(1.4*m) + 0.82)*exp(1.4*m) - 5.12*a*(-1.6*a*exp(1.6*m) + 0.56)*exp(1.6*m) - 6.48*a*(-1.8*a*exp(1.8*m) + 0.42)*exp(1.8*m) - 8.0*a*(-2.0*a*exp(2.0*m) + 0.25)*exp(2.0*m)\n"
     ]
    }
   ],
   "source": [
    "f2 = diff(suma,m)\n",
    "print(f2)"
   ]
  },
  {
   "cell_type": "code",
   "execution_count": 50,
   "metadata": {
    "collapsed": false
   },
   "outputs": [
    {
     "name": "stdout",
     "output_type": "stream",
     "text": [
      "[ 19.8214613380287]\n",
      "[-2.48701070171148]\n"
     ]
    }
   ],
   "source": [
    "print(nsolve((f1, f2), (a, m), (8, 0), verify=False, prec=5))"
   ]
  },
  {
   "cell_type": "code",
   "execution_count": 56,
   "metadata": {
    "collapsed": false
   },
   "outputs": [
    {
     "data": {
      "image/png": "[encoded data removed]",
      "text/latex": [
       "$$\\left(- 0.2 a e^{0.2 m} + 2.4\\right)^{2} + \\left(- 0.4 a e^{0.4 m} + 3.0\\right)^{2} + \\left(- 0.6 a e^{0.6 m} + 2.55\\right)^{2} + \\left(- 0.8 a e^{0.8 m} + 2.24\\right)^{2} + \\left(- 1.0 a e^{1.0 m} + 1.72\\right)^{2} + \\left(- 1.2 a e^{1.2 m} + 1.18\\right)^{2} + \\left(- 1.4 a e^{1.4 m} + 0.82\\right)^{2} + \\left(- 1.6 a e^{1.6 m} + 0.56\\right)^{2} + \\left(- 1.8 a e^{1.8 m} + 0.42\\right)^{2} + \\left(- 2.0 a e^{2.0 m} + 0.25\\right)^{2}$$"
      ],
      "text/plain": [
       "                      2                         2                          2  \n",
       "⎛         0.2⋅m      ⎞    ⎛         0.4⋅m      ⎞    ⎛         0.6⋅m       ⎞   \n",
       "⎝- 0.2⋅a⋅ℯ      + 2.4⎠  + ⎝- 0.4⋅a⋅ℯ      + 3.0⎠  + ⎝- 0.6⋅a⋅ℯ      + 2.55⎠  +\n",
       "\n",
       "                        2                          2                          \n",
       " ⎛         0.8⋅m       ⎞    ⎛         1.0⋅m       ⎞    ⎛         1.2⋅m       ⎞\n",
       " ⎝- 0.8⋅a⋅ℯ      + 2.24⎠  + ⎝- 1.0⋅a⋅ℯ      + 1.72⎠  + ⎝- 1.2⋅a⋅ℯ      + 1.18⎠\n",
       "\n",
       "2                          2                          2                       \n",
       "    ⎛         1.4⋅m       ⎞    ⎛         1.6⋅m       ⎞    ⎛         1.8⋅m     \n",
       "  + ⎝- 1.4⋅a⋅ℯ      + 0.82⎠  + ⎝- 1.6⋅a⋅ℯ      + 0.56⎠  + ⎝- 1.8⋅a⋅ℯ      + 0.\n",
       "\n",
       "   2                          2\n",
       "  ⎞    ⎛         2.0⋅m       ⎞ \n",
       "42⎠  + ⎝- 2.0⋅a⋅ℯ      + 0.25⎠ "
      ]
     },
     "execution_count": 56,
     "metadata": {},
     "output_type": "execute_result"
    }
   ],
   "source": [
    "suma"
   ]
  }
 ],
 "metadata": {
  "kernelspec": {
   "display_name": "Python 3",
   "language": "python",
   "name": "python3"
  },
  "language_info": {
   "codemirror_mode": {
    "name": "ipython",
    "version": 3
   },
   "file_extension": ".py",
   "mimetype": "text/x-python",
   "name": "python",
   "nbconvert_exporter": "python",
   "pygments_lexer": "ipython3",
   "version": "3.6.0"
  }
 },
 "nbformat": 4,
 "nbformat_minor": 2
}
